{
 "cells": [
  {
   "cell_type": "markdown",
   "metadata": {},
   "source": [
    "## Neural machine translation: English-to-Spanish"
   ]
  },
  {
   "cell_type": "markdown",
   "metadata": {},
   "source": [
    "- Approach: sequence-to-sequence model (encoder-decoder architecture) with attention and teacher forcing \n",
    "- Advantages of Attention:\n",
    "  - Regular seq-to-seq model: The entire orginal language sequence must fit into one small vector as the final output state from encoder LSTMs/GRUs. If the sequence is very long, the single output state can not capture all the information in the input sequence.\n",
    "  - Attention: For each output, attention tells the model which part of the input sequence should be paid attention to.\n",
    "- Result: \n",
    "  - Compared to regular sequence to sequence model , sequence to sequence model with attention can increase the prediction accuracy by a promising amount.\n",
    "  - Due to computation and time limit, the model only ran 10 epochs on 10000 samples. Increasing number of epochs and sample size will increase the translation accuracy."
   ]
  },
  {
   "cell_type": "code",
   "execution_count": 1,
   "metadata": {
    "collapsed": true
   },
   "outputs": [],
   "source": [
    "# Disable warnings\n",
    "import warnings\n",
    "def fxn():\n",
    "    warnings.warn(\"deprecated\", DeprecationWarning)\n",
    "with warnings.catch_warnings():\n",
    "    warnings.simplefilter(\"ignore\")\n",
    "    fxn()"
   ]
  },
  {
   "cell_type": "code",
   "execution_count": 3,
   "metadata": {},
   "outputs": [],
   "source": [
    "import os\n",
    "import sys\n",
    "import numpy as np\n",
    "import matplotlib.pyplot as plt\n",
    "import keras.backend as K\n",
    "from keras.models import Model\n",
    "from keras.layers import Input, LSTM, GRU, Dense, Embedding, \\\n",
    "  Bidirectional, RepeatVector, Concatenate, Activation, Dot, Lambda\n",
    "from keras.preprocessing.text import Tokenizer\n",
    "from keras.preprocessing.sequence import pad_sequences"
   ]
  },
  {
   "cell_type": "code",
   "execution_count": 4,
   "metadata": {
    "collapsed": true
   },
   "outputs": [],
   "source": [
    "if len(K.tensorflow_backend._get_available_gpus()) > 0:\n",
    "    from keras.layers import CuDNNLSTM as LSTM\n",
    "    from keras.layers import CuDNNGRU as GRU"
   ]
  },
  {
   "cell_type": "code",
   "execution_count": 5,
   "metadata": {
    "collapsed": true
   },
   "outputs": [],
   "source": [
    "# custom softmax_over_time function\n",
    "# in Keras 2.1.5, we can pass the axis = 1 directly, but not for old versions of Keras\n",
    "# for each t = 1,...,Ty, we have alpha of shape: (N, Tx, 1) where N is the batch_size\n",
    "def softmax_over_time(x):\n",
    "    assert(K.ndim(x) > 2)\n",
    "    e = K.exp(x - K.max(x, axis = 1, keepdims = True))\n",
    "    s = K.sum(e, axis = 1, keepdims = True)\n",
    "    return e/s"
   ]
  },
  {
   "cell_type": "code",
   "execution_count": 6,
   "metadata": {
    "collapsed": true
   },
   "outputs": [],
   "source": [
    "# configuration\n",
    "batch_size = 64\n",
    "epochs = 10\n",
    "latent_dim = 256\n",
    "latent_dim_decoder = 256\n",
    "num_samples = 10000\n",
    "max_sequence_length = 100\n",
    "max_num_words = 20000\n",
    "embedding_dim = 100"
   ]
  },
  {
   "cell_type": "code",
   "execution_count": 7,
   "metadata": {},
   "outputs": [
    {
     "name": "stdout",
     "output_type": "stream",
     "text": [
      "number of samples to train on:  10000\n"
     ]
    }
   ],
   "source": [
    "# prepare the training data\n",
    "input_texts = []\n",
    "target_texts = []\n",
    "target_texts_inputs = []\n",
    "\n",
    "t = 0\n",
    "for line in open('../large_files/translation/spa.txt'):\n",
    "    t += 1\n",
    "    if t > num_samples:\n",
    "        break\n",
    "    if '\\t' not in line:\n",
    "        continue\n",
    "    input_text, translation = line.rstrip().split('\\t')\n",
    "    target_text = translation + ' <eos>'\n",
    "    target_text_input = '<sos> ' + translation\n",
    "    \n",
    "    input_texts.append(input_text)\n",
    "    target_texts.append(target_text)\n",
    "    target_texts_inputs.append(target_text_input)\n",
    "\n",
    "print(\"number of samples to train on: \", len(input_texts))"
   ]
  },
  {
   "cell_type": "code",
   "execution_count": 8,
   "metadata": {},
   "outputs": [
    {
     "name": "stdout",
     "output_type": "stream",
     "text": [
      "number of unique input tokens:  2367\n"
     ]
    }
   ],
   "source": [
    "# Tokenize the input sentences (in original language)\n",
    "tokenizer_inputs = Tokenizer(num_words = max_num_words)\n",
    "tokenizer_inputs.fit_on_texts(input_texts)\n",
    "input_sequences = tokenizer_inputs.texts_to_sequences(input_texts)\n",
    "# word to index mapping for input language\n",
    "word2idx_inputs = tokenizer_inputs.word_index\n",
    "print(\"number of unique input tokens: \", len(word2idx_inputs))\n",
    "\n",
    "max_len_input = max(len(s) for s in input_sequences)"
   ]
  },
  {
   "cell_type": "code",
   "execution_count": 9,
   "metadata": {},
   "outputs": [
    {
     "name": "stdout",
     "output_type": "stream",
     "text": [
      "number of unique output tokens:  6325\n"
     ]
    }
   ],
   "source": [
    "# Tokenize the output sentences (in translated language)\n",
    "tokenizer_outputs = Tokenizer(num_words = max_num_words, filters = '')\n",
    "tokenizer_outputs.fit_on_texts(target_texts + target_texts_inputs)\n",
    "target_sequences = tokenizer_outputs.texts_to_sequences(target_texts)\n",
    "target_sequences_inputs = tokenizer_outputs.texts_to_sequences(target_texts_inputs)\n",
    "# word to index mapping for output language\n",
    "word2idx_outputs = tokenizer_outputs.word_index\n",
    "print(\"number of unique output tokens: \", len(word2idx_outputs))\n",
    "\n",
    "num_words_output = len(word2idx_outputs) + 1\n",
    "max_len_target = max(len(s) for s in target_sequences)"
   ]
  },
  {
   "cell_type": "code",
   "execution_count": 10,
   "metadata": {},
   "outputs": [
    {
     "name": "stdout",
     "output_type": "stream",
     "text": [
      "shape of encoder inputs:  (10000, 5)\n",
      "shape of decoder inputs:  (10000, 9)\n"
     ]
    }
   ],
   "source": [
    "# pad sequences to form tensor\n",
    "encoder_inputs = pad_sequences(input_sequences, maxlen = max_len_input)\n",
    "print(\"shape of encoder inputs: \", encoder_inputs.shape)\n",
    "\n",
    "decoder_inputs = pad_sequences(target_sequences_inputs, maxlen = max_len_target, padding = 'post')\n",
    "print(\"shape of decoder inputs: \", decoder_inputs.shape)\n",
    "\n",
    "decoder_targets = pad_sequences(target_sequences, maxlen = max_len_target, padding = 'post')"
   ]
  },
  {
   "cell_type": "code",
   "execution_count": 11,
   "metadata": {},
   "outputs": [],
   "source": [
    "# prepare pre-trained glove word embedding vectors\n",
    "word2vec = {}\n",
    "with open(os.path.join('../large_files/glove.6B/glove.6B.%sd.txt' % embedding_dim)) as f:\n",
    "    for line in f:\n",
    "        values = line.split()\n",
    "        word = values[0]\n",
    "        vec = np.asarray(values[1:], dtype = 'float32')\n",
    "        word2vec[word] = vec\n",
    "\n",
    "num_words = min(max_num_words, len(word2idx_inputs) + 1)\n",
    "embedding_matrix = np.zeros((num_words, embedding_dim))\n",
    "for word, i in word2idx_inputs.items():\n",
    "    if i < max_num_words:\n",
    "        embedding_vector = word2vec.get(word)\n",
    "        if embedding_vector is not None:\n",
    "            embedding_matrix[i] = embedding_vector"
   ]
  },
  {
   "cell_type": "code",
   "execution_count": 12,
   "metadata": {
    "collapsed": true
   },
   "outputs": [],
   "source": [
    "# create embedding layer\n",
    "embedding_layer = Embedding(\n",
    "    num_words,\n",
    "    embedding_dim,\n",
    "    weights = [embedding_matrix],\n",
    "    input_length = max_len_input,\n",
    "    trainable = False\n",
    ")"
   ]
  },
  {
   "cell_type": "code",
   "execution_count": 13,
   "metadata": {
    "collapsed": true
   },
   "outputs": [],
   "source": [
    "# prepare targets\n",
    "# one-hot-encoding targets\n",
    "# sparse_... loss without one-hot encoding does not work on sequence format targets\n",
    "decoder_targets_one_hot = np.zeros(\n",
    "    (len(input_texts), max_len_target, num_words_output),\n",
    "    dtype = 'float32'\n",
    ")\n",
    "for i, d in enumerate(decoder_targets):\n",
    "    for t, word in enumerate(d):\n",
    "        decoder_targets_one_hot[i, t, word] = 1"
   ]
  },
  {
   "cell_type": "markdown",
   "metadata": {},
   "source": [
    "### Model buiding and training"
   ]
  },
  {
   "cell_type": "code",
   "execution_count": 14,
   "metadata": {
    "collapsed": true
   },
   "outputs": [],
   "source": [
    "#### Encoder\n",
    "encoder_inputs_placeholder = Input(shape = (max_len_input,))\n",
    "x = embedding_layer(encoder_inputs_placeholder)\n",
    "encoder = Bidirectional(LSTM(latent_dim, return_sequences = True, dropout = 0.5))\n",
    "encoder_outputs = encoder(x)\n",
    "\n",
    "\n",
    "#### Decoder\n",
    "decoder_inputs_placeholder = Input(shape = (max_len_target,))\n",
    "decoder_embedding = Embedding(num_words_output, embedding_dim)\n",
    "decoder_inputs_x = decoder_embedding(decoder_inputs_placeholder)\n",
    "\n",
    "\n",
    "#### Attention\n",
    "attn_repeat_layer = RepeatVector(max_len_input)\n",
    "attn_concat_layer = Concatenate(axis = -1) # concatenate s(t-1) and h(t'), will be repeated max_len_input times\n",
    "attn_dense1 = Dense(10, activation = 'tanh') # for each [s(t-1), h(t')] where t'=1,...,Ty\n",
    "attn_dense2 = Dense(1, activation = softmax_over_time)\n",
    "attn_dot = Dot(axes = 1) # weighted sum of alpha(t')*h(t')\n",
    "\n",
    "def one_step_attention(h, st_1):\n",
    "    # h = h(1),...,h(Tx) of shape (Tx, latent_dim*2)\n",
    "    # st_1 = s(t-1) of shape (latent_dim_decoder)\n",
    "    \n",
    "    # copy st_1 Tx times\n",
    "    st_1 = attn_repeat_layer(st_1) # of shape (Tx, latent_dim_decoder)\n",
    "    \n",
    "    # concatenate all h(1),...,h(Tx) with s(t-1)\n",
    "    x = attn_concat_layer([h, st_1]) # of shape (Tx, latent_dim_decoder + latent_dim*2)\n",
    "    \n",
    "    # dense layer1\n",
    "    x = attn_dense1(x)\n",
    "    \n",
    "    # dense layer2 with softmax over time\n",
    "    alphas = attn_dense2(x)\n",
    "    \n",
    "    # context = weight sum of h\n",
    "    context = attn_dot([alphas, h])\n",
    "    \n",
    "    return context\n",
    "\n",
    "\n",
    "#### rest of decoder\n",
    "decoder_lstm = LSTM(latent_dim_decoder, return_state = True)\n",
    "decoder_dense = Dense(num_words_output, activation = 'softmax')\n",
    "\n",
    "initial_s = Input(shape = (latent_dim_decoder,), name = 's0')\n",
    "initial_c = Input(shape = (latent_dim_decoder,), name = 'c0')\n",
    "context_last_word_concat_layer = Concatenate(axis = 2) # teacher forcing: concatenate last word and context as input to decoder LSTM\n",
    "\n",
    "\n",
    "#### output sequences\n",
    "# Different from regular seq-to-seq model, we can't get output in one step\n",
    "# Need to loop over Ty steps, in each step, we calculate a context\n",
    "s = initial_s\n",
    "c = initial_c\n",
    "\n",
    "outputs = []\n",
    "for t in range(max_len_target):\n",
    "    context = one_step_attention(encoder_outputs, s)\n",
    "    \n",
    "    selector = Lambda(lambda x: x[:, t:t+1])\n",
    "    xt = selector(decoder_inputs_x)\n",
    "    \n",
    "    decoder_lstm_input = context_last_word_concat_layer([context, xt])\n",
    "    \n",
    "    o, s, c = decoder_lstm(decoder_lstm_input, initial_state = [s, c])\n",
    "    \n",
    "    decoder_outputs = decoder_dense(o)\n",
    "    outputs.append(decoder_outputs)\n",
    "   \n",
    "    # outputs is a list of length Ty\n",
    "    # each element is of shape (batch_size, output_vocab_size)\n",
    "    # if simply stack, shape will be Ty x N x D\n",
    "    # we want N x T x D\n",
    "\n",
    "\n",
    "def stack_and_transpose(x):\n",
    "    x = K.stack(x)\n",
    "    x = K.permute_dimensions(x, pattern = (1, 0, 2))\n",
    "    return x\n",
    "\n",
    "# in Keras, every function needs to be packed to a layer using Lambda\n",
    "stacker = Lambda(stack_and_transpose)\n",
    "outputs = stacker(outputs)\n",
    "\n",
    "\n",
    "#### Create the Model\n",
    "model = Model(\n",
    "    inputs = [encoder_inputs_placeholder, decoder_inputs_placeholder, initial_s, initial_c],\n",
    "    outputs = outputs\n",
    ")\n",
    "\n",
    "model.compile(\n",
    "    optimizer = 'rmsprop',\n",
    "    loss = 'categorical_crossentropy',\n",
    "    metrics = ['accuracy']\n",
    ")"
   ]
  },
  {
   "cell_type": "code",
   "execution_count": 15,
   "metadata": {},
   "outputs": [
    {
     "name": "stdout",
     "output_type": "stream",
     "text": [
      "Train on 8000 samples, validate on 2000 samples\n",
      "Epoch 1/10\n",
      "8000/8000 [==============================] - 119s 15ms/step - loss: 2.7686 - acc: 0.6280 - val_loss: 2.7640 - val_acc: 0.6471\n",
      "Epoch 2/10\n",
      "8000/8000 [==============================] - 116s 15ms/step - loss: 2.1054 - acc: 0.7070 - val_loss: 2.4949 - val_acc: 0.6687\n",
      "Epoch 3/10\n",
      "8000/8000 [==============================] - 120s 15ms/step - loss: 1.8955 - acc: 0.7237 - val_loss: 2.3860 - val_acc: 0.6794\n",
      "Epoch 4/10\n",
      "8000/8000 [==============================] - 112s 14ms/step - loss: 1.7624 - acc: 0.7359 - val_loss: 2.2420 - val_acc: 0.6907\n",
      "Epoch 5/10\n",
      "8000/8000 [==============================] - 112s 14ms/step - loss: 1.6646 - acc: 0.7447 - val_loss: 2.1888 - val_acc: 0.7019\n",
      "Epoch 6/10\n",
      "8000/8000 [==============================] - 112s 14ms/step - loss: 1.5779 - acc: 0.7544 - val_loss: 2.1283 - val_acc: 0.7063\n",
      "Epoch 7/10\n",
      "8000/8000 [==============================] - 112s 14ms/step - loss: 1.4994 - acc: 0.7629 - val_loss: 2.1114 - val_acc: 0.7130\n",
      "Epoch 8/10\n",
      "8000/8000 [==============================] - 112s 14ms/step - loss: 1.4283 - acc: 0.7704 - val_loss: 2.0705 - val_acc: 0.7171\n",
      "Epoch 9/10\n",
      "8000/8000 [==============================] - 112s 14ms/step - loss: 1.3680 - acc: 0.7771 - val_loss: 2.0738 - val_acc: 0.7219\n",
      "Epoch 10/10\n",
      "8000/8000 [==============================] - 1073s 134ms/step - loss: 1.3128 - acc: 0.7838 - val_loss: 2.0538 - val_acc: 0.7208\n"
     ]
    }
   ],
   "source": [
    "# train the model\n",
    "z = np.zeros((num_samples, latent_dim_decoder)) # initial [s, c]\n",
    "r = model.fit(\n",
    "    [encoder_inputs, decoder_inputs, z, z],\n",
    "    decoder_targets_one_hot,\n",
    "    batch_size = batch_size,\n",
    "    epochs = epochs,\n",
    "    validation_split = 0.2\n",
    ")"
   ]
  },
  {
   "cell_type": "code",
   "execution_count": 16,
   "metadata": {},
   "outputs": [
    {
     "data": {
      "image/png": "[encoded data removed]",
      "text/plain": [
       "<matplotlib.figure.Figure at 0x18b66dceb8>"
      ]
     },
     "metadata": {},
     "output_type": "display_data"
    },
    {
     "data": {
      "image/png": "[encoded data removed]",
      "text/plain": [
       "<matplotlib.figure.Figure at 0x18b6698b38>"
      ]
     },
     "metadata": {},
     "output_type": "display_data"
    }
   ],
   "source": [
    "# Visalization loss and accuracy\n",
    "plt.plot(r.history['loss'], label = 'loss')\n",
    "plt.plot(r.history['val_loss'], label = 'val_loss')\n",
    "plt.legend()\n",
    "plt.show()\n",
    "\n",
    "plt.plot(r.history['acc'], label = 'acc')\n",
    "plt.plot(r.history['val_acc'], label = 'val_acc')\n",
    "plt.legend()\n",
    "plt.show()"
   ]
  },
  {
   "cell_type": "markdown",
   "metadata": {},
   "source": [
    "### Make predictions"
   ]
  },
  {
   "cell_type": "code",
   "execution_count": 17,
   "metadata": {},
   "outputs": [],
   "source": [
    "# Encoder model\n",
    "encoder_model = Model(encoder_inputs_placeholder, encoder_outputs)\n",
    "\n",
    "# Decoder model with T = 1\n",
    "encoder_outputs_as_input = Input(shape = (max_len_input, latent_dim*2,))\n",
    "decoder_inputs_single = Input(shape = (1,))\n",
    "decoder_inputs_single_x = decoder_embedding(decoder_inputs_single)\n",
    "\n",
    "context = one_step_attention(encoder_outputs_as_input, initial_s)\n",
    "\n",
    "decoder_lstm_input = context_last_word_concat_layer([context, decoder_inputs_single_x])\n",
    "\n",
    "o, s, c = decoder_lstm(decoder_lstm_input, initial_state = [initial_s, initial_c])\n",
    "decoder_outputs = decoder_dense(o) # of shape: N x D, no need to make from 1 x N x D -> N x 1 x D\n",
    "\n",
    "decoder_model = Model(\n",
    "    inputs = [decoder_inputs_single, encoder_outputs_as_input, initial_s, initial_c],\n",
    "    outputs = [decoder_outputs, s, c]\n",
    ")"
   ]
  },
  {
   "cell_type": "code",
   "execution_count": 18,
   "metadata": {
    "collapsed": true
   },
   "outputs": [],
   "source": [
    "# map index back to original language and translated language\n",
    "idx2word_eng = {v:k for k, v in word2idx_inputs.items()}\n",
    "idx2word_trans = {v:k for k, v in word2idx_outputs.items()}"
   ]
  },
  {
   "cell_type": "code",
   "execution_count": 21,
   "metadata": {
    "collapsed": true
   },
   "outputs": [],
   "source": [
    "def decode_sequence(input_seq):\n",
    "    enc_out = encoder_model.predict(input_seq)\n",
    "    \n",
    "    target_seq = np.zeros((1, 1))\n",
    "    target_seq[0,0] = word2idx_outputs['<sos>']\n",
    "    \n",
    "    # if generated index is eos, break\n",
    "    eos = word2idx_outputs['<eos>']\n",
    "    \n",
    "    # initial s, c\n",
    "    s = np.zeros((1, latent_dim_decoder))\n",
    "    c = np.zeros((1, latent_dim_decoder))\n",
    "    \n",
    "    output_sequence = []\n",
    "    for _ in range(max_len_target):\n",
    "        o, s, c = decoder_model.predict([target_seq, enc_out, s, c])\n",
    "        idx = np.argmax(o.flatten())\n",
    "        if idx == eos:\n",
    "            break\n",
    "        \n",
    "        word = ''\n",
    "        if idx > 0:\n",
    "            word = idx2word_trans[idx]\n",
    "            output_sequence.append(word)\n",
    "        \n",
    "        target_seq[0, 0] = idx\n",
    "    \n",
    "    return ' '.join(output_sequence)"
   ]
  },
  {
   "cell_type": "code",
   "execution_count": 22,
   "metadata": {},
   "outputs": [
    {
     "name": "stdout",
     "output_type": "stream",
     "text": [
      "-\n",
      "Input:  Is this a river?\n",
      "Predicted translation:  ¿es un libro.\n",
      "Actual translation:  ¿Es ese un río? <eos>\n",
      "Continue? [Y/n]Y\n",
      "-\n",
      "Input:  He is nasty.\n",
      "Predicted translation:  él es gentil.\n",
      "Actual translation:  Él es un guarro. <eos>\n",
      "Continue? [Y/n]Y\n",
      "-\n",
      "Input:  Drive slowly.\n",
      "Predicted translation:  sigue de adelante.\n",
      "Actual translation:  Conduce lentamente. <eos>\n",
      "Continue? [Y/n]Y\n",
      "-\n",
      "Input:  I love eggplant.\n",
      "Predicted translation:  me gustan los gustan los gustan los gustan los\n",
      "Actual translation:  Me encantan las berenjenas. <eos>\n",
      "Continue? [Y/n]Y\n",
      "-\n",
      "Input:  He lay face up.\n",
      "Predicted translation:  él se se quedó llorar.\n",
      "Actual translation:  Él estaba tirado de espaldas. <eos>\n",
      "Continue? [Y/n]Y\n",
      "-\n",
      "Input:  She has a book.\n",
      "Predicted translation:  él es un libro.\n",
      "Actual translation:  Tiene un libro. <eos>\n",
      "Continue? [Y/n]Y\n",
      "-\n",
      "Input:  Saddle my horse.\n",
      "Predicted translation:  me duele el perro.\n",
      "Actual translation:  Ensilla mi caballo. <eos>\n",
      "Continue? [Y/n]Y\n",
      "-\n",
      "Input:  We're busy.\n",
      "Predicted translation:  estoy en estoy de hambre.\n",
      "Actual translation:  Estamos ocupados. <eos>\n",
      "Continue? [Y/n]Y\n",
      "-\n",
      "Input:  You owe me one.\n",
      "Predicted translation:  quiero esto.\n",
      "Actual translation:  Me debes una. <eos>\n",
      "Continue? [Y/n]Y\n",
      "-\n",
      "Input:  We're through.\n",
      "Predicted translation:  estoy de vuelta.\n",
      "Actual translation:  Hemos terminado. <eos>\n",
      "Continue? [Y/n]n\n"
     ]
    }
   ],
   "source": [
    "while True:\n",
    "    i = np.random.choice(len(input_texts))\n",
    "    input_seq = encoder_inputs[i:i+1]\n",
    "    translation = decode_sequence(input_seq)\n",
    "    print('-')\n",
    "    print('Input: ', input_texts[i])\n",
    "    print('Predicted translation: ', translation)\n",
    "    print('Actual translation: ', target_texts[i])\n",
    "    \n",
    "    ans = input(\"Continue? [Y/n]\")\n",
    "    if ans and ans.lower().startswith('n'):\n",
    "        break"
   ]
  }
 ],
 "metadata": {
  "kernelspec": {
   "display_name": "Python 3",
   "language": "python",
   "name": "python3"
  },
  "language_info": {
   "codemirror_mode": {
    "name": "ipython",
    "version": 3
   },
   "file_extension": ".py",
   "mimetype": "text/x-python",
   "name": "python",
   "nbconvert_exporter": "python",
   "pygments_lexer": "ipython3",
   "version": "3.6.3"
  }
 },
 "nbformat": 4,
 "nbformat_minor": 2
}
